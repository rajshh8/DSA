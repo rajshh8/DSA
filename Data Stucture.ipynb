# Definition for singly-linked list.
# class ListNode:
#     def __init__(self, val=0, next=None):
#         self.val = val
#         self.next = next
class Solution:
    def reverseList(self, head: Optional[ListNode]) -> Optional[ListNode]:
        temp=None
        p=None
        if head==None:
            return 

        while head.next!=None:
            temp=head
            head=head.next
            temp.next=p 
            p=temp
        temp=head
        temp.next=p 
        p=temp
        return head
        

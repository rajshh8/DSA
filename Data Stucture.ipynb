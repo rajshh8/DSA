{
 "cells": [
  {
   "cell_type": "markdown",
   "id": "5d95a761",
   "metadata": {},
   "source": [
    "# Binary Search. O(log N)"
   ]
  },
  {
   "cell_type": "code",
   "execution_count": 9,
   "id": "e8a2176c",
   "metadata": {},
   "outputs": [
    {
     "name": "stdout",
     "output_type": "stream",
     "text": [
      "Element not found\n"
     ]
    }
   ],
   "source": [
    "def binaryRec(start,end,A,num): # 2,3,4,5,6,7\n",
    "    if start>end:\n",
    "        return \"Element not found\"\n",
    "    else:\n",
    "        mid=(start+end)//2\n",
    "        \n",
    "        if A[mid]==num:\n",
    "            return mid+1\n",
    "        elif A[mid]>num:\n",
    "            return binaryRec(start,mid-1,A,num)\n",
    "        elif A[mid]<num:\n",
    "            return binaryRec(mid+1,end,A,num)        \n",
    "     \n",
    "\n",
    "A=[11,22,33,44,55,66,77,88]\n",
    "ans=binaryRec(0,len(A),A,1)\n",
    "print(ans)\n",
    "    "
   ]
  },
  {
   "cell_type": "markdown",
   "id": "9b1eee6e",
   "metadata": {},
   "source": [
    "# Binary Search using Recursion"
   ]
  },
  {
   "cell_type": "code",
   "execution_count": 7,
   "id": "a1ceda78",
   "metadata": {},
   "outputs": [
    {
     "name": "stdout",
     "output_type": "stream",
     "text": [
      "None\n"
     ]
    }
   ],
   "source": [
    "def binaryRec(start,end,A,num): # 2,3,4,5,6,7\n",
    "    mid=(start+end)//2\n",
    "    if A[mid]==num:\n",
    "        return mid+1\n",
    "    elif A[mid]>num and start <= end:\n",
    "        end=mid-1\n",
    "        binaryRec(start,end,A,num)\n",
    "    elif A[mid]<num and start <= end:\n",
    "        start=mid+1\n",
    "        binaryRec(start,end,A,num)        \n",
    "    else:\n",
    "        return -1\n",
    "    \n",
    "    \n",
    "s=0\n",
    "A=[2,3,5,6,8,9]\n",
    "e=len(A)\n",
    "num=3\n",
    "ans=binaryRec(s,e,A,num)\n",
    "print(ans)\n",
    "\n",
    "\n",
    "    "
   ]
  },
  {
   "cell_type": "markdown",
   "id": "d9c280cc",
   "metadata": {},
   "source": [
    "#### "
   ]
  },
  {
   "cell_type": "markdown",
   "id": "c3f21bd3",
   "metadata": {},
   "source": [
    "# Sliding Window"
   ]
  },
  {
   "cell_type": "code",
   "execution_count": null,
   "id": "0d978b64",
   "metadata": {},
   "outputs": [],
   "source": [
    "Sliding Window : given an array of integer of size N, find max sum of k consequtive elements"
   ]
  },
  {
   "cell_type": "code",
   "execution_count": 2,
   "id": "8872711c",
   "metadata": {},
   "outputs": [],
   "source": [
    "def solve(arr,k):\n",
    "    N=len(arr)\n",
    "    windowSum=sum([arr[i] for i in range(k)])\n",
    "    maxSum=windowSum\n",
    "    \n",
    "    for i in range(N-k):\n",
    "        windowSum=windowSum-arr[i]+arr[i+k]\n",
    "        maxSum=max(maxSum,windowSum)\n",
    "    return maxSum\n",
    "    \n",
    "    "
   ]
  },
  {
   "cell_type": "code",
   "execution_count": 3,
   "id": "f0a9ac2f",
   "metadata": {},
   "outputs": [
    {
     "data": {
      "text/plain": [
       "190"
      ]
     },
     "execution_count": 3,
     "metadata": {},
     "output_type": "execute_result"
    }
   ],
   "source": [
    "arr=[80,-50,90,100]\n",
    "k=2\n",
    "solve(arr,k)"
   ]
  },
  {
   "cell_type": "markdown",
   "id": "bb7a8dab",
   "metadata": {},
   "source": [
    "# Shifting Zero"
   ]
  },
  {
   "cell_type": "code",
   "execution_count": 6,
   "id": "7e9abf88",
   "metadata": {},
   "outputs": [],
   "source": [
    "def solve1(A):\n",
    "    j=0\n",
    "    for i in A:\n",
    "        if i!=0:\n",
    "            A[j]=i\n",
    "            j+=1\n",
    "    while j<len(A):\n",
    "        A[j]=0\n",
    "        j+=1\n",
    "    return A"
   ]
  },
  {
   "cell_type": "code",
   "execution_count": 8,
   "id": "add150b2",
   "metadata": {},
   "outputs": [
    {
     "data": {
      "text/plain": [
       "[4, 6, 8, 2, 30, 3, 4, 8, 6, 5, 3, 7, 5, 2, 14, 0, 0, 0, 0, 0, 0, 0, 0]"
      ]
     },
     "execution_count": 8,
     "metadata": {},
     "output_type": "execute_result"
    }
   ],
   "source": [
    "a=[0,4,6,8,0,2,30,3,4,0,0,0,8,0,6,5,3,0,7,5,2,14,0]\n",
    "solve1(a)"
   ]
  },
  {
   "cell_type": "markdown",
   "id": "f24abfd4",
   "metadata": {},
   "source": [
    "# Sum of N natural no. using recursion"
   ]
  },
  {
   "cell_type": "code",
   "execution_count": 14,
   "id": "ea3549af",
   "metadata": {},
   "outputs": [],
   "source": [
    "def sum(n):\n",
    "    if n>0:\n",
    "        sum(n-1)\n",
    "        k=\n",
    "        print(n)"
   ]
  },
  {
   "cell_type": "markdown",
   "id": "1e002099",
   "metadata": {},
   "source": [
    "# Selection Sort  Time Complexity=O(nˆ2) ____Unstable ALgorithm"
   ]
  },
  {
   "cell_type": "code",
   "execution_count": 21,
   "id": "86710061",
   "metadata": {},
   "outputs": [
    {
     "name": "stdout",
     "output_type": "stream",
     "text": [
      "[0, 1, 2, 4, 5, 5, 5, 5, 6, 9, 80]\n"
     ]
    }
   ],
   "source": [
    "def selectionSort(A):  # 2,6,9,4,5,80,0\n",
    "    n=len(A)\n",
    "    for i in range(0,n):             \n",
    "        index=i\n",
    "        for j in range(i+1,n):\n",
    "            if A[j]<A[index]:\n",
    "                index=j\n",
    "        A[index],A[i]=A[i],A[index]\n",
    "    print(A)\n",
    "    \n",
    "selectionSort([2,1,6,9,4,5,5,5,5,80,0])\n",
    "                \n",
    "                   \n",
    "       \n",
    "        "
   ]
  },
  {
   "cell_type": "markdown",
   "id": "3b48bcbf",
   "metadata": {},
   "source": [
    "# Insertion Sort,  Complexity= O(nˆ2)___Stable Algorithm"
   ]
  },
  {
   "cell_type": "code",
   "execution_count": 1,
   "id": "8084f283",
   "metadata": {},
   "outputs": [
    {
     "name": "stdout",
     "output_type": "stream",
     "text": [
      "Original Array: [3, 5, 8, 9, 6, 2]\n",
      "Sorted Array: [2, 3, 5, 6, 8, 9]\n"
     ]
    }
   ],
   "source": [
    "def insertionsort(A):\n",
    "    n = len(A)\n",
    "    for i in range(1,n):\n",
    "        cvalue = A[i]\n",
    "        position = i\n",
    "        while position > 0 and A[position-1] > cvalue:\n",
    "            A[position] = A[position-1]\n",
    "            position = position - 1\n",
    "        A[position] = cvalue\n",
    "\n",
    "\n",
    "A = [3,5,8,9,6,2]\n",
    "print('Original Array:',A)\n",
    "insertionsort(A)\n",
    "print('Sorted Array:',A)\n"
   ]
  },
  {
   "cell_type": "markdown",
   "id": "7ac3d15c",
   "metadata": {},
   "source": [
    "# Bubble Sort,  Complexity = O(nˆ2)____Stable Algorithm"
   ]
  },
  {
   "cell_type": "code",
   "execution_count": 29,
   "id": "fb724fe3",
   "metadata": {},
   "outputs": [
    {
     "name": "stdout",
     "output_type": "stream",
     "text": [
      "[1, 2, 2, 3, 4, 5, 44, 234, 456, 654, 654, 654, 766, 878, 909, 3432, 4535, 23423]\n"
     ]
    }
   ],
   "source": [
    "def bubbleSort(A): # 4,1,3,2,5\n",
    "    n=len(A)\n",
    "    for i in range(0,n):\n",
    "        for k in range(1,n):\n",
    "            if A[k-1]>A[k]:\n",
    "                A[k-1],A[k]=A[k],A[k-1]\n",
    "    print(A)\n",
    "    \n",
    "bubbleSort([4,1,3,5,2,44,234,654,654,23423,878,909,766,456,4535,2,3432,654])\n"
   ]
  },
  {
   "cell_type": "markdown",
   "id": "c73e10ac",
   "metadata": {},
   "source": [
    "# Shell Sort, Complexity= O(nˆ2)"
   ]
  },
  {
   "cell_type": "code",
   "execution_count": 6,
   "id": "3f6fdfbd",
   "metadata": {},
   "outputs": [
    {
     "name": "stdout",
     "output_type": "stream",
     "text": [
      "[0, 1, 2, 3, 4, 4, 5, 8, 8, 23, 45, 65, 66, 76, 78, 98, 453, 657, 43554]\n"
     ]
    }
   ],
   "source": [
    "def shellSort(A):\n",
    "    n=len(A)\n",
    "    gap=n//2\n",
    "    while gap>0:\n",
    "        for i in range(0,n):\n",
    "            if i+gap<n:\n",
    "                if A[i+gap]<A[i]:\n",
    "                    A[i+gap],A[i]=A[i],A[gap+i]\n",
    "            if i-gap >=0:\n",
    "                if A[i-gap]>A[i]:\n",
    "                    A[i-gap],A[i]=A[i],A[i-gap]\n",
    "                    \n",
    "        gap=gap//2\n",
    "        \n",
    "    print(A)\n",
    "    \n",
    "shellSort([4,1,3,2,5,66,8,45,23,4,98,0,8,78,76,65,453,43554,657])"
   ]
  },
  {
   "cell_type": "markdown",
   "id": "d6dd5eaf",
   "metadata": {},
   "source": [
    "# Merge Sort, Complexity= O(NlogN)"
   ]
  },
  {
   "cell_type": "code",
   "execution_count": 23,
   "id": "7f51fd59",
   "metadata": {},
   "outputs": [
    {
     "name": "stdout",
     "output_type": "stream",
     "text": [
      "[1, 2, 3, 4, 6, 8]\n"
     ]
    }
   ],
   "source": [
    "def mergeSort(A,left,right):#A=[2,3,8,3,4,6]\n",
    "    \n",
    "    if left<right:\n",
    "        mid=(left+right)//2\n",
    "        mergeSort(A,left,mid)\n",
    "        mergeSort(A,mid+1,right)\n",
    "        merge(A,left,mid,right)\n",
    "        \n",
    "def merge(A,left,mid,right):\n",
    "    i=left\n",
    "    j=mid+1\n",
    "    k=left\n",
    "    B=[0]*len(A)\n",
    "    \n",
    "    while i<=mid and j<=right:\n",
    "        if A[i]<A[j]:\n",
    "            B[k]=A[i]\n",
    "            i+=1\n",
    "            k+=1\n",
    "        else:\n",
    "            B[k]=A[j]\n",
    "            j+=1\n",
    "            k+=1\n",
    "    while i<=mid:\n",
    "        B[k]=A[i]\n",
    "        i+=1\n",
    "        k+=1\n",
    "        \n",
    "    while j<=right:\n",
    "        B[k]=A[j]\n",
    "        j+=1\n",
    "        k+=1\n",
    "        \n",
    "    for item in range(left,right+1):\n",
    "        A[item]=B[item]\n",
    "        \n",
    "    \n",
    "\n",
    "A=[2,3,8,1,4,6]\n",
    "n=len(A)\n",
    "mergeSort(A,0,n-1)\n",
    "print(A)        \n",
    "    \n",
    "    "
   ]
  },
  {
   "cell_type": "markdown",
   "id": "5766a917",
   "metadata": {},
   "source": [
    "# Count Sorting O(N)"
   ]
  },
  {
   "cell_type": "code",
   "execution_count": 7,
   "id": "8ac5f19f",
   "metadata": {},
   "outputs": [
    {
     "ename": "IndexError",
     "evalue": "list index out of range",
     "output_type": "error",
     "traceback": [
      "\u001b[0;31m---------------------------------------------------------------------------\u001b[0m",
      "\u001b[0;31mIndexError\u001b[0m                                Traceback (most recent call last)",
      "\u001b[0;32m<ipython-input-7-12885efb2689>\u001b[0m in \u001b[0;36m<module>\u001b[0;34m\u001b[0m\n\u001b[1;32m     15\u001b[0m \u001b[0;34m\u001b[0m\u001b[0m\n\u001b[1;32m     16\u001b[0m \u001b[0mA\u001b[0m\u001b[0;34m=\u001b[0m\u001b[0;34m[\u001b[0m\u001b[0;36m4\u001b[0m\u001b[0;34m,\u001b[0m\u001b[0;36m3\u001b[0m\u001b[0;34m,\u001b[0m\u001b[0;36m2\u001b[0m\u001b[0;34m,\u001b[0m\u001b[0;36m5\u001b[0m\u001b[0;34m,\u001b[0m\u001b[0;36m7\u001b[0m\u001b[0;34m,\u001b[0m\u001b[0;36m10\u001b[0m\u001b[0;34m]\u001b[0m\u001b[0;34m\u001b[0m\u001b[0;34m\u001b[0m\u001b[0m\n\u001b[0;32m---> 17\u001b[0;31m \u001b[0mcount\u001b[0m\u001b[0;34m(\u001b[0m\u001b[0mA\u001b[0m\u001b[0;34m)\u001b[0m\u001b[0;34m\u001b[0m\u001b[0;34m\u001b[0m\u001b[0m\n\u001b[0m\u001b[1;32m     18\u001b[0m \u001b[0;34m\u001b[0m\u001b[0m\n\u001b[1;32m     19\u001b[0m \u001b[0;34m\u001b[0m\u001b[0m\n",
      "\u001b[0;32m<ipython-input-7-12885efb2689>\u001b[0m in \u001b[0;36mcount\u001b[0;34m(A)\u001b[0m\n\u001b[1;32m     11\u001b[0m     \u001b[0;31m#print(count)\u001b[0m\u001b[0;34m\u001b[0m\u001b[0;34m\u001b[0m\u001b[0;34m\u001b[0m\u001b[0m\n\u001b[1;32m     12\u001b[0m     \u001b[0;32mfor\u001b[0m \u001b[0mi\u001b[0m \u001b[0;32min\u001b[0m \u001b[0mrange\u001b[0m\u001b[0;34m(\u001b[0m\u001b[0;36m0\u001b[0m\u001b[0;34m,\u001b[0m\u001b[0mn\u001b[0m\u001b[0;34m)\u001b[0m\u001b[0;34m:\u001b[0m\u001b[0;34m\u001b[0m\u001b[0;34m\u001b[0m\u001b[0m\n\u001b[0;32m---> 13\u001b[0;31m         \u001b[0mcnt\u001b[0m\u001b[0;34m[\u001b[0m\u001b[0mA\u001b[0m\u001b[0;34m[\u001b[0m\u001b[0mi\u001b[0m\u001b[0;34m]\u001b[0m\u001b[0;34m]\u001b[0m\u001b[0;34m+=\u001b[0m\u001b[0;36m1\u001b[0m\u001b[0;34m\u001b[0m\u001b[0;34m\u001b[0m\u001b[0m\n\u001b[0m\u001b[1;32m     14\u001b[0m     \u001b[0mprint\u001b[0m\u001b[0;34m(\u001b[0m\u001b[0mcnt\u001b[0m\u001b[0;34m)\u001b[0m\u001b[0;34m\u001b[0m\u001b[0;34m\u001b[0m\u001b[0m\n\u001b[1;32m     15\u001b[0m \u001b[0;34m\u001b[0m\u001b[0m\n",
      "\u001b[0;31mIndexError\u001b[0m: list index out of range"
     ]
    }
   ],
   "source": [
    "def count(A): #A=[4,3,2,5,7]\n",
    "    \n",
    "    #find the maximum element in the array\n",
    "    max=A[0]\n",
    "    n=len(A)\n",
    "    for i in range(1,n):\n",
    "        if max<A[i]:\n",
    "            max=A[i]\n",
    "    #print(max)        \n",
    "    cnt=[0]*max\n",
    "    #print(count)\n",
    "    for i in range(0,n):\n",
    "        cnt[A[i]]+=1\n",
    "    print(cnt)\n",
    "    \n",
    "A=[4,3,2,5,7,10]\n",
    "count(A)\n",
    "        \n",
    "            \n",
    "    \n",
    "        \n",
    "        "
   ]
  },
  {
   "cell_type": "markdown",
   "id": "a9d1c135",
   "metadata": {},
   "source": [
    "# Stack Representation in Python"
   ]
  },
  {
   "cell_type": "markdown",
   "id": "5f5b987e",
   "metadata": {},
   "source": [
    "We use class to impliment the stack in python. below are the function of stack ..\n",
    "push()\n",
    "pop()\n",
    "top()\n",
    "isempty()\n",
    "len()"
   ]
  },
  {
   "cell_type": "code",
   "execution_count": 22,
   "id": "4bb21f75",
   "metadata": {},
   "outputs": [],
   "source": [
    "class stack:\n",
    "    def __init__(self):\n",
    "        self.data=[]\n",
    "        \n",
    "    def push(self,e):\n",
    "        self.data.append(e)\n",
    "        \n",
    "    def pop(self):\n",
    "        return self.data.pop()\n",
    "    \n",
    "    def isempty(self):\n",
    "        if len(self.data)==0:\n",
    "            return True\n",
    "        else:\n",
    "            return False\n",
    "        \n",
    "    def top(self):\n",
    "        return self.data[-1]\n",
    "    \n",
    "    def len(self):\n",
    "        return len(self.data)\n",
    "    \n",
    "    def display(self):\n",
    "        print(self.data)\n",
    "        \n",
    "        "
   ]
  },
  {
   "cell_type": "code",
   "execution_count": 26,
   "id": "403b4db5",
   "metadata": {},
   "outputs": [],
   "source": [
    "st=stack()"
   ]
  },
  {
   "cell_type": "code",
   "execution_count": 41,
   "id": "669bb315",
   "metadata": {},
   "outputs": [
    {
     "name": "stdout",
     "output_type": "stream",
     "text": [
      "[8, 8, 3]\n"
     ]
    }
   ],
   "source": [
    "st.display()"
   ]
  },
  {
   "cell_type": "code",
   "execution_count": 1,
   "id": "4beaba6f",
   "metadata": {},
   "outputs": [
    {
     "ename": "NameError",
     "evalue": "name 'st' is not defined",
     "output_type": "error",
     "traceback": [
      "\u001b[0;31m---------------------------------------------------------------------------\u001b[0m",
      "\u001b[0;31mNameError\u001b[0m                                 Traceback (most recent call last)",
      "\u001b[0;32m<ipython-input-1-115124e4d4b6>\u001b[0m in \u001b[0;36m<module>\u001b[0;34m\u001b[0m\n\u001b[0;32m----> 1\u001b[0;31m \u001b[0mst\u001b[0m\u001b[0;34m.\u001b[0m\u001b[0mpush\u001b[0m\u001b[0;34m(\u001b[0m\u001b[0;36m3\u001b[0m\u001b[0;34m)\u001b[0m\u001b[0;34m\u001b[0m\u001b[0;34m\u001b[0m\u001b[0m\n\u001b[0m",
      "\u001b[0;31mNameError\u001b[0m: name 'st' is not defined"
     ]
    }
   ],
   "source": [
    "st.push(3)"
   ]
  },
  {
   "cell_type": "markdown",
   "id": "a02656fb",
   "metadata": {},
   "source": [
    "# Linked List"
   ]
  },
  {
   "cell_type": "code",
   "execution_count": 36,
   "id": "c1a8bccc",
   "metadata": {},
   "outputs": [],
   "source": [
    "class _Node:\n",
    "    __slots__='_element', '_next'\n",
    "    def __init__(self,element, next):\n",
    "        self._element=element\n",
    "        self._next= next\n",
    "        \n",
    "class LinkedList:\n",
    "    def __init__(self):\n",
    "        self._head=None\n",
    "        self._tail=None\n",
    "        self._size=0\n",
    "        \n",
    "    def __len__(self):\n",
    "        return self._size\n",
    "    \n",
    "    def isempty(self):\n",
    "        return self._size==0\n",
    "    \n",
    "    def addlast(self,e):\n",
    "        newest=_Node(e,None)\n",
    "        if self.isempty():\n",
    "            self._head=newest\n",
    "        else:\n",
    "            self._tail._next=newest\n",
    "        self._tail=newest\n",
    "        self._size+=1\n",
    "        \n",
    "    def display(self):\n",
    "        p=self._head\n",
    "        while p:\n",
    "            print(p._element,end=\"->\")\n",
    "            p=p._next\n",
    "        print()\n",
    "        "
   ]
  },
  {
   "cell_type": "code",
   "execution_count": 38,
   "id": "161968aa",
   "metadata": {},
   "outputs": [
    {
     "name": "stdout",
     "output_type": "stream",
     "text": [
      "7->4->12->8->3->100->\n",
      "Size: 6\n"
     ]
    }
   ],
   "source": [
    "L = LinkedList()\n",
    "L.addlast(7)\n",
    "L.addlast(4)\n",
    "L.addlast(12)\n",
    "L.addlast(8)\n",
    "L.addlast(3)\n",
    "L.addlast(100)\n",
    "L.display()\n",
    "print('Size:',len(L))"
   ]
  },
  {
   "cell_type": "markdown",
   "id": "2f4c3f4c",
   "metadata": {},
   "source": [
    "# Advanced Linked List"
   ]
  },
  {
   "cell_type": "code",
   "execution_count": 151,
   "id": "7e02bc7f",
   "metadata": {},
   "outputs": [],
   "source": [
    "class Node:\n",
    "    def __init__(self,data,next):\n",
    "        self.data=data\n",
    "        self.next=next\n",
    "        \n",
    "class LinkedList:\n",
    "    def __init__(self):\n",
    "        self.head=None\n",
    "        self.tail=None\n",
    "        self.size=0\n",
    "        \n",
    "    def addNode(self,data,indx):\n",
    "        nw=Node(data,None)\n",
    "        if self.size==0:\n",
    "            self.head=nw\n",
    "            self.size+=1\n",
    "            self.tail=nw\n",
    "        else:\n",
    "            if indx==1:\n",
    "                nw.next=self.head\n",
    "                self.head=nw\n",
    "                self.size+=1\n",
    "            elif indx<=self.size and indx>0:\n",
    "                p=self.head\n",
    "                c=1\n",
    "                while c<indx-1:\n",
    "                    c+=1\n",
    "                    p=p.next\n",
    "                nw.next=p.next\n",
    "                p.next=nw\n",
    "                self.size+=1\n",
    "            elif indx==self.size+1:\n",
    "                self.tail.next=nw\n",
    "                self.size+=1\n",
    "                self.tail=nw\n",
    "            else:\n",
    "                return\n",
    "            \n",
    "    def delNode(self,indx):\n",
    "        if indx==1:\n",
    "            self.head=self.head.next\n",
    "            self.size-=1\n",
    "        elif indx<self.size and indx>0:\n",
    "            p=self.head\n",
    "            c=1\n",
    "            while c<indx-1:\n",
    "                c+=1\n",
    "                p=p.next\n",
    "            p.next=p.next.next\n",
    "            self.size-=1\n",
    "        elif indx==self.size:\n",
    "            p=self.head\n",
    "            c=1\n",
    "            while c<indx-1:\n",
    "                c+=1\n",
    "                p=p.next\n",
    "            p.next=None\n",
    "            self.size-=1\n",
    "                     \n",
    "            \n",
    "    def printll(self):\n",
    "        p=self.head\n",
    "        while p:\n",
    "            print(p.data,end=\" ->\")\n",
    "            p=p.next\n",
    "            \n",
    "            \n"
   ]
  },
  {
   "cell_type": "code",
   "execution_count": 152,
   "id": "8c728b80",
   "metadata": {},
   "outputs": [],
   "source": [
    "# indexin is one based\n",
    "l=LinkedList()\n",
    "l.addNode(100,1)\n",
    "l.addNode(200,2)\n",
    "l.addNode(99,1)\n",
    "l.addNode(150,3)\n",
    "l.addNode(250,5)\n",
    "l.addNode(500,6)\n",
    "l.addNode(600,7)\n",
    "l.addNode(1,1)\n"
   ]
  },
  {
   "cell_type": "code",
   "execution_count": 153,
   "id": "15585ae8",
   "metadata": {},
   "outputs": [
    {
     "name": "stdout",
     "output_type": "stream",
     "text": [
      "1 ->99 ->100 ->150 ->200 ->250 ->500 ->600 ->"
     ]
    },
    {
     "data": {
      "text/plain": [
       "8"
      ]
     },
     "execution_count": 153,
     "metadata": {},
     "output_type": "execute_result"
    }
   ],
   "source": [
    "l.printll()\n",
    "l.size"
   ]
  },
  {
   "cell_type": "code",
   "execution_count": 154,
   "id": "ecfa1691",
   "metadata": {},
   "outputs": [
    {
     "name": "stdout",
     "output_type": "stream",
     "text": [
      "1 ->99 ->100 ->150 ->250 ->500 ->600 ->"
     ]
    }
   ],
   "source": [
    "l.delNode(5)\n",
    "l.printll()"
   ]
  },
  {
   "cell_type": "markdown",
   "id": "9f02bfa0",
   "metadata": {},
   "source": [
    "# Stack Imp using  LinkedList"
   ]
  },
  {
   "cell_type": "code",
   "execution_count": 201,
   "id": "67b434fc",
   "metadata": {},
   "outputs": [],
   "source": [
    "class _Node:\n",
    "        #__slots__='_element', '_next'\n",
    "    def __init__(self,data,next):\n",
    "        self.data=data\n",
    "        self.next=next   \n",
    "        \n",
    "class Stack:\n",
    "    \n",
    "        \n",
    "    def __init__(self):\n",
    "        self.head=None\n",
    "        self.tail=None\n",
    "        self.size=0\n",
    "        \n",
    "    def push(self,data):\n",
    "        nw=_Node(data,None)\n",
    "        if self.size==0:\n",
    "            head=nw\n",
    "            self.size+=1\n",
    "            \n",
    "        else:\n",
    "            nw.next=self.head\n",
    "            head=nw\n",
    "            self.size+=1\n",
    "            \n",
    "    def pop(self):\n",
    "        if self.size>0:\n",
    "            self.head=self.head.next\n",
    "            self.size-=1\n",
    "            \n",
    "            \n",
    "    def printst(self):\n",
    "        p=self.head\n",
    "        while p:\n",
    "            print(p.data,end=\"->\")\n",
    "            p=p.next\n",
    "        print()\n",
    "            \n",
    "            \n",
    "    \n",
    "    \n",
    "        \n",
    "            \n",
    "        "
   ]
  },
  {
   "cell_type": "code",
   "execution_count": 202,
   "id": "89f6b19d",
   "metadata": {},
   "outputs": [
    {
     "data": {
      "text/plain": [
       "4"
      ]
     },
     "execution_count": 202,
     "metadata": {},
     "output_type": "execute_result"
    }
   ],
   "source": [
    "s=Stack()\n",
    "s.push(100)\n",
    "s.push(200)\n",
    "s.push(300)\n",
    "s.push(400)\n",
    "s.size"
   ]
  },
  {
   "cell_type": "code",
   "execution_count": 203,
   "id": "af1786bd",
   "metadata": {},
   "outputs": [
    {
     "ename": "AttributeError",
     "evalue": "'NoneType' object has no attribute 'next'",
     "output_type": "error",
     "traceback": [
      "\u001b[0;31m---------------------------------------------------------------------------\u001b[0m",
      "\u001b[0;31mAttributeError\u001b[0m                            Traceback (most recent call last)",
      "\u001b[0;32m<ipython-input-203-463c2b628221>\u001b[0m in \u001b[0;36m<module>\u001b[0;34m\u001b[0m\n\u001b[0;32m----> 1\u001b[0;31m \u001b[0ms\u001b[0m\u001b[0;34m.\u001b[0m\u001b[0mpop\u001b[0m\u001b[0;34m(\u001b[0m\u001b[0;34m)\u001b[0m\u001b[0;34m\u001b[0m\u001b[0;34m\u001b[0m\u001b[0m\n\u001b[0m\u001b[1;32m      2\u001b[0m \u001b[0ms\u001b[0m\u001b[0;34m.\u001b[0m\u001b[0msize\u001b[0m\u001b[0;34m\u001b[0m\u001b[0;34m\u001b[0m\u001b[0m\n",
      "\u001b[0;32m<ipython-input-201-6f35a02f0536>\u001b[0m in \u001b[0;36mpop\u001b[0;34m(self)\u001b[0m\n\u001b[1;32m     26\u001b[0m     \u001b[0;32mdef\u001b[0m \u001b[0mpop\u001b[0m\u001b[0;34m(\u001b[0m\u001b[0mself\u001b[0m\u001b[0;34m)\u001b[0m\u001b[0;34m:\u001b[0m\u001b[0;34m\u001b[0m\u001b[0;34m\u001b[0m\u001b[0m\n\u001b[1;32m     27\u001b[0m         \u001b[0;32mif\u001b[0m \u001b[0mself\u001b[0m\u001b[0;34m.\u001b[0m\u001b[0msize\u001b[0m\u001b[0;34m>\u001b[0m\u001b[0;36m0\u001b[0m\u001b[0;34m:\u001b[0m\u001b[0;34m\u001b[0m\u001b[0;34m\u001b[0m\u001b[0m\n\u001b[0;32m---> 28\u001b[0;31m             \u001b[0mself\u001b[0m\u001b[0;34m.\u001b[0m\u001b[0mhead\u001b[0m\u001b[0;34m=\u001b[0m\u001b[0mself\u001b[0m\u001b[0;34m.\u001b[0m\u001b[0mhead\u001b[0m\u001b[0;34m.\u001b[0m\u001b[0mnext\u001b[0m\u001b[0;34m\u001b[0m\u001b[0;34m\u001b[0m\u001b[0m\n\u001b[0m\u001b[1;32m     29\u001b[0m             \u001b[0mself\u001b[0m\u001b[0;34m.\u001b[0m\u001b[0msize\u001b[0m\u001b[0;34m-=\u001b[0m\u001b[0;36m1\u001b[0m\u001b[0;34m\u001b[0m\u001b[0;34m\u001b[0m\u001b[0m\n\u001b[1;32m     30\u001b[0m \u001b[0;34m\u001b[0m\u001b[0m\n",
      "\u001b[0;31mAttributeError\u001b[0m: 'NoneType' object has no attribute 'next'"
     ]
    }
   ],
   "source": [
    "s.pop()\n",
    "s.size"
   ]
  },
  {
   "cell_type": "code",
   "execution_count": 52,
   "id": "c78f4a0d",
   "metadata": {},
   "outputs": [],
   "source": [
    "\n",
    "class Solution:\n",
    "    \n",
    "\n",
    "    def solve(self, A):\n",
    "        global top\n",
    "        top=0\n",
    "        \n",
    "        \n",
    "\n",
    "        def push():\n",
    "            global top\n",
    "            top+=1\n",
    "            \n",
    "        def pop():\n",
    "            global top\n",
    "            if top>0:\n",
    "                top-=1\n",
    "            \n",
    "        for i in range(0,len(A)):\n",
    "            if A[i]==\"(\":\n",
    "                push()\n",
    "\n",
    "            elif A[i]==\")\":\n",
    "                pop()\n",
    "                \n",
    "            \n",
    "        \n",
    "        if top==0:\n",
    "            return 1\n",
    "        else:\n",
    "            return 0\n",
    "\n",
    "\n"
   ]
  },
  {
   "cell_type": "code",
   "execution_count": 67,
   "id": "9e7f5352",
   "metadata": {},
   "outputs": [
    {
     "data": {
      "text/plain": [
       "1"
      ]
     },
     "execution_count": 67,
     "metadata": {},
     "output_type": "execute_result"
    }
   ],
   "source": [
    "s=Solution()\n",
    "A=\")))\"\n",
    "s.solve(A)\n"
   ]
  },
  {
   "cell_type": "code",
   "execution_count": 68,
   "id": "63e22c87",
   "metadata": {},
   "outputs": [],
   "source": [
    "import math\n",
    "class MinStack:\n",
    "    # @param x, an integer\n",
    "    # @return an integer\n",
    "    global stack,stackMin,mn\n",
    "    stack=[]\n",
    "    stackMin=[]\n",
    "    mn=math.inf\n",
    "  \n",
    "    def push(self, x):\n",
    "        global stack,stackMin,mn\n",
    "        stack.append(x)\n",
    "        if x<mn:\n",
    "            stackMin.append(x)\n",
    "            mn=x\n",
    "        \n",
    "\n",
    "    # @return nothing\n",
    "    def pop(self):\n",
    "        global stack,stackMin,mn\n",
    "        if len(stack)>0:\n",
    "            temp=stack.pop()\n",
    "            if temp==mn:\n",
    "                stackMin.pop()\n",
    "                if len(stackMin)>0:\n",
    "                    mn=stackMin[-1]\n",
    "                else:\n",
    "                    mn=math.inf\n",
    "        \n",
    "\n",
    "    # @return an integer\n",
    "    def top(self):\n",
    "        global stack,stackMin,mn\n",
    "        if len(stack)>0:\n",
    "            return stack[-1]\n",
    "        else:\n",
    "            return -1\n",
    "        \n",
    "\n",
    "    # @return an integer\n",
    "    def getMin(self):\n",
    "        global stack,stackMin,mn\n",
    "        if len(stackMin)==0:\n",
    "            return -1\n",
    "        else:\n",
    "            return mn\n",
    "        \n"
   ]
  },
  {
   "cell_type": "code",
   "execution_count": 76,
   "id": "39972cf1",
   "metadata": {},
   "outputs": [
    {
     "data": {
      "text/plain": [
       "2"
      ]
     },
     "execution_count": 76,
     "metadata": {},
     "output_type": "execute_result"
    }
   ],
   "source": [
    "p=MinStack()\n",
    "p.push(1)\n",
    "p.push(2)\n",
    "p.push(-2)\n",
    "p.getMin()\n",
    "p.pop()\n",
    "p.getMin()\n",
    "p.top()\n"
   ]
  },
  {
   "cell_type": "code",
   "execution_count": null,
   "id": "222ef7c4",
   "metadata": {},
   "outputs": [],
   "source": []
  }
 ],
 "metadata": {
  "kernelspec": {
   "display_name": "Python 3",
   "language": "python",
   "name": "python3"
  },
  "language_info": {
   "codemirror_mode": {
    "name": "ipython",
    "version": 3
   },
   "file_extension": ".py",
   "mimetype": "text/x-python",
   "name": "python",
   "nbconvert_exporter": "python",
   "pygments_lexer": "ipython3",
   "version": "3.8.8"
  }
 },
 "nbformat": 4,
 "nbformat_minor": 5
}
